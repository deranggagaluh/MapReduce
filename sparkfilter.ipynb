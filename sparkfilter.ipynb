{
  "nbformat": 4,
  "nbformat_minor": 0,
  "metadata": {
    "colab": {
      "provenance": [],
      "authorship_tag": "ABX9TyM8mN3Vq3ZXGgKTfLhFHu74"
    },
    "kernelspec": {
      "name": "python3",
      "display_name": "Python 3"
    },
    "language_info": {
      "name": "python"
    }
  },
  "cells": [
    {
      "cell_type": "code",
      "execution_count": null,
      "metadata": {
        "id": "b9oE4-PBXrTf"
      },
      "outputs": [],
      "source": [
        "!apt-get install openjdk-8-jdk-headless -qq > /spark\n",
        "!wget -q https://archive.apache.org/dist/spark/spark-2.4.4/spark-2.4.4-bin-hadoop2.7.tgz\n",
        "!tar xf spark-2.4.4-bin-hadoop2.7.tgz\n",
        "!pip install -q findspark"
      ]
    },
    {
      "cell_type": "code",
      "source": [
        "import os\n",
        "os.environ[\"JAVA_HOME\"] = \"/usr/lib/jvm/java-8-openjdk-amd64\"\n",
        "os.environ[\"SPARK_HOME\"] = \"/content/spark-2.4.4-bin-hadoop2.7\""
      ],
      "metadata": {
        "id": "oujKtJxXZGh4"
      },
      "execution_count": null,
      "outputs": []
    },
    {
      "cell_type": "code",
      "source": [
        "import findspark\n",
        "findspark.init()\n",
        "from pyspark.sql import SparkSession\n",
        "from pyspark.sql.functions import *\n",
        "from pyspark.sql.types import *"
      ],
      "metadata": {
        "id": "B_luQvqTlzpf"
      },
      "execution_count": null,
      "outputs": []
    },
    {
      "cell_type": "code",
      "source": [
        "from google.colab import files\n",
        "uploaded = files.upload()"
      ],
      "metadata": {
        "id": "0p61qbHTmBz_"
      },
      "execution_count": null,
      "outputs": []
    },
    {
      "cell_type": "code",
      "source": [
        "spark = SparkSession \\\n",
        "    .builder \\\n",
        "    .master(\"local[*]\") \\\n",
        "    .appName(\"test\") \\\n",
        "    .getOrCreate()"
      ],
      "metadata": {
        "id": "jw6z5u71mEat"
      },
      "execution_count": null,
      "outputs": []
    },
    {
      "cell_type": "code",
      "source": [
        "df_AT_POS = spark.read.format(\"csv\").load(\"AkunTwitter_POS.csv\")\n",
        "df_HT_POS = spark.read.format(\"csv\").load(\"HashtagTwitter_POS.csv\")\n",
        "df_IG_POS = spark.read.format(\"json\").load(\"Instagram_POS.json\")"
      ],
      "metadata": {
        "id": "QhjZqTZ7mLHY"
      },
      "execution_count": null,
      "outputs": []
    },
    {
      "cell_type": "code",
      "source": [
        "df_AT_POS.where(df_AT_POS[\"user_id\"] == \"posindonesia\").show()\n",
        "df_HT_POS.where(df_HT_POS[\"user_id\"] == \"posindonesia\").show()\n",
        "df_IG_POS.where(df_IG_POS)\n"
      ],
      "metadata": {
        "id": "svKnYoFNnRrR"
      },
      "execution_count": null,
      "outputs": []
    }
  ]
}